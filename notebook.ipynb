{
 "cells": [
  {
   "cell_type": "code",
   "execution_count": 1,
   "id": "855bdaae-d2a3-442c-8943-975fc4f05fd2",
   "metadata": {
    "tags": []
   },
   "outputs": [],
   "source": [
    "from langchain.llms import LlamaCpp\n",
    "from langchain import PromptTemplate, LLMChain\n",
    "from langchain.document_loaders import TextLoader\n",
    "from langchain.text_splitter import CharacterTextSplitter\n",
    "from langchain.vectorstores import Chroma\n",
    "from langchain.embeddings import LlamaCppEmbeddings\n",
    "from langchain.vectorstores import OpenSearchVectorSearch\n",
    "from langchain.docstore.document import Document\n",
    "from langchain.chains.question_answering import load_qa_chain\n",
    "from langchain.embeddings import HuggingFaceHubEmbeddings\n",
    "from langchain.llms import HuggingFaceHub\n",
    "from langchain.chains import RetrievalQA\n",
    "import os"
   ]
  },
  {
   "cell_type": "code",
   "execution_count": 2,
   "id": "72e0cbce-0695-4894-b6db-06edcdb51fd9",
   "metadata": {
    "tags": []
   },
   "outputs": [
    {
     "name": "stdout",
     "output_type": "stream",
     "text": [
      "Number of chuncks  95\n"
     ]
    }
   ],
   "source": [
    "os.environ['HUGGINGFACEHUB_API_TOKEN'] = 'token'\n",
    "file_name = 'state_of_the_union.txt'\n",
    "max_num_of_tokens = 2048\n",
    "loader = TextLoader(file_name)\n",
    "query = \"What did the president say about Ketanji Brown Jackson?\"\n",
    "documents = loader.load()\n",
    "\n",
    "text_splitter = CharacterTextSplitter(chunk_size=500, chunk_overlap=100, separator='\\n')\n",
    "splited_docs = text_splitter.split_documents(documents)\n",
    "print('Number of chuncks ', len(splited_docs))"
   ]
  },
  {
   "cell_type": "code",
   "execution_count": 3,
   "id": "7777cc1a-30a5-454c-8058-af6033736892",
   "metadata": {
    "tags": []
   },
   "outputs": [
    {
     "name": "stderr",
     "output_type": "stream",
     "text": [
      "/Users/carlgira/files/langchain/document-qa-gpt4all/.venv/lib/python3.11/site-packages/tqdm/auto.py:21: TqdmWarning: IProgress not found. Please update jupyter and ipywidgets. See https://ipywidgets.readthedocs.io/en/stable/user_install.html\n",
      "  from .autonotebook import tqdm as notebook_tqdm\n",
      "You're using a different task than the one specified in the repository. Be sure to know what you're doing :)\n"
     ]
    }
   ],
   "source": [
    "llm_embeddings = HuggingFaceHubEmbeddings()\n",
    "flan_ul2 = HuggingFaceHub(repo_id=\"google/flan-ul2\", model_kwargs={\"temperature\":0.1, \"max_new_tokens\":300})"
   ]
  },
  {
   "cell_type": "code",
   "execution_count": 4,
   "id": "d92dd319-4b92-4f84-8edd-03e89fe2164a",
   "metadata": {
    "tags": []
   },
   "outputs": [
    {
     "name": "stderr",
     "output_type": "stream",
     "text": [
      "Using embedded DuckDB with persistence: data will be stored in: db_state_of_the_union.txt\n"
     ]
    }
   ],
   "source": [
    "persist_directory = 'db_' + file_name\n",
    "db = None\n",
    "\n",
    "if os.path.isdir(persist_directory):\n",
    "    db = Chroma(persist_directory=persist_directory, embedding_function=llm_embeddings)\n",
    "else:\n",
    "    db = Chroma.from_documents(splited_docs, llm_embeddings, persist_directory=persist_directory)\n",
    "    db.persist()\n"
   ]
  },
  {
   "cell_type": "code",
   "execution_count": null,
   "id": "e4b2ea3b-12db-4977-8096-74ff61e1d3a7",
   "metadata": {},
   "outputs": [],
   "source": [
    "# Opensearch\n",
    "#docsearch = OpenSearchVectorSearch.from_documents(docs, llm_embeddings, opensearch_url=\"http://localhost:9200\")\n",
    "#docs = docsearch.similarity_search(query)"
   ]
  },
  {
   "cell_type": "code",
   "execution_count": 5,
   "id": "21527a82-09f5-4312-b98b-76bfc3c3222a",
   "metadata": {
    "tags": []
   },
   "outputs": [],
   "source": [
    "# Chroma\n",
    "#response_docs = db.similarity_search(query)\n",
    "retriever = db.as_retriever()\n",
    "qa = RetrievalQA.from_chain_type(llm=flan_ul2, chain_type=\"stuff\", retriever=retriever, return_source_documents=True)"
   ]
  },
  {
   "cell_type": "code",
   "execution_count": 6,
   "id": "331541ff-f65f-482d-8ae5-470703f4ad8f",
   "metadata": {
    "tags": []
   },
   "outputs": [
    {
     "data": {
      "text/plain": [
       "'One of our nation’s top legal minds, who will continue Justice Breyer’s legacy of excellence'"
      ]
     },
     "execution_count": 6,
     "metadata": {},
     "output_type": "execute_result"
    }
   ],
   "source": [
    "result = qa({\"query\": query})\n",
    "result['result']"
   ]
  },
  {
   "cell_type": "code",
   "execution_count": 9,
   "id": "6e8c788f-164b-4a91-bcb6-8f0a08c08625",
   "metadata": {
    "tags": []
   },
   "outputs": [
    {
     "data": {
      "text/plain": [
       "4"
      ]
     },
     "execution_count": 9,
     "metadata": {},
     "output_type": "execute_result"
    }
   ],
   "source": [
    "len(result['source_documents'])"
   ]
  },
  {
   "cell_type": "code",
   "execution_count": null,
   "id": "1cf7a941-3f4e-4a06-8bd5-67d8354cf1b6",
   "metadata": {},
   "outputs": [],
   "source": []
  },
  {
   "cell_type": "code",
   "execution_count": null,
   "id": "84ae4a7a-3153-42fa-b15d-d69c32ea94e5",
   "metadata": {},
   "outputs": [],
   "source": []
  },
  {
   "cell_type": "code",
   "execution_count": null,
   "id": "79b0661f-ef48-44c8-8ed5-294434dae2d4",
   "metadata": {},
   "outputs": [],
   "source": []
  }
 ],
 "metadata": {
  "kernelspec": {
   "display_name": "Python 3 (ipykernel)",
   "language": "python",
   "name": "python3"
  },
  "language_info": {
   "codemirror_mode": {
    "name": "ipython",
    "version": 3
   },
   "file_extension": ".py",
   "mimetype": "text/x-python",
   "name": "python",
   "nbconvert_exporter": "python",
   "pygments_lexer": "ipython3",
   "version": "3.11.3"
  }
 },
 "nbformat": 4,
 "nbformat_minor": 5
}
